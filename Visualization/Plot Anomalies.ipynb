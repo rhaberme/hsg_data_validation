{
 "cells": [
  {
   "cell_type": "code",
   "execution_count": 71,
   "id": "698279c7",
   "metadata": {},
   "outputs": [],
   "source": [
    "import pandas as pd\n",
    "import matplotlib.pyplot as plt"
   ]
  },
  {
   "cell_type": "code",
   "execution_count": 72,
   "id": "8f333342",
   "metadata": {},
   "outputs": [],
   "source": [
    "# colorset for scores\n",
    "score_color = {\n",
    "    \"Missing\": \"#474747\",\n",
    "    \"Good\": \"#8AC69B\",\n",
    "    \"Doubtful\": \"#9C8800\",\n",
    "    \"Unsuitable\": \"#BF3A43\",\n",
    "}\n",
    "\n",
    "anomaly_type_letter_explanation = {\n",
    "    \"A\": \"Außerhalb Vertrauensbereich (Experten Spanne)\",\n",
    "    \"B\": \"physikalisch unmögliche Werte (phys. Spanne)\",\n",
    "    \"C\": \"Out-of-sensor-range values (techn. Spanne)\",\n",
    "    \"D\": \"Ausfall\",\n",
    "    \"E\": \"Konstanz / geringe Variabilität\",\n",
    "    \"F\": \"Ausreißer\",\n",
    "    \"G\": \"Gradient\",\n",
    "    \"H\": \"Rauschen\",\n",
    "    \"I\": \"Drift\",\n",
    "    \"J\": \"Shift\",\n",
    "    \"K\": \"Keine Aufzeichnung\"\n",
    "}\n",
    "\n",
    "# http://hclwizard.org:3000/hclwizard/\n",
    "# can be updated if there are better ideas\n",
    "anomaly_type_color = {\n",
    "    \"A\": \"#DB9D85\",\n",
    "    \"B\": \"#E093C3\",\n",
    "    \"C\": \"#ACA4E2\",\n",
    "    \"D\": \"#4CB9CC\",\n",
    "    \"E\": \"#5CBD92\",\n",
    "    \"F\": \"#ABB065\",\n",
    "    \"G\": \"#DB9D85\",\n",
    "    \"H\": \"#89D9CF\",\n",
    "    \"I\": \"#AC7F21\",\n",
    "    \"J\": \"#533600\",\n",
    "    \"K\": \"#4CB9CC\"\n",
    "}"
   ]
  },
  {
   "cell_type": "code",
   "execution_count": 73,
   "id": "c94faf12",
   "metadata": {},
   "outputs": [
    {
     "data": {
      "text/html": [
       "<div>\n",
       "<style scoped>\n",
       "    .dataframe tbody tr th:only-of-type {\n",
       "        vertical-align: middle;\n",
       "    }\n",
       "\n",
       "    .dataframe tbody tr th {\n",
       "        vertical-align: top;\n",
       "    }\n",
       "\n",
       "    .dataframe thead th {\n",
       "        text-align: right;\n",
       "    }\n",
       "</style>\n",
       "<table border=\"1\" class=\"dataframe\">\n",
       "  <thead>\n",
       "    <tr style=\"text-align: right;\">\n",
       "      <th></th>\n",
       "      <th>Date&amp;Time</th>\n",
       "      <th>app1_conc [mg/l]</th>\n",
       "      <th>app1_conc_lt63 [mg/l]</th>\n",
       "      <th>app1_h [m]</th>\n",
       "      <th>app1_t_water [Â°C]</th>\n",
       "      <th>Anomalietyp</th>\n",
       "    </tr>\n",
       "  </thead>\n",
       "  <tbody>\n",
       "    <tr>\n",
       "      <th>0</th>\n",
       "      <td>2023-10-19 14:30:00</td>\n",
       "      <td>0.0</td>\n",
       "      <td>0.0</td>\n",
       "      <td>0.091</td>\n",
       "      <td>18.1</td>\n",
       "      <td>K</td>\n",
       "    </tr>\n",
       "    <tr>\n",
       "      <th>1</th>\n",
       "      <td>2023-10-19 14:30:30</td>\n",
       "      <td>0.0</td>\n",
       "      <td>0.0</td>\n",
       "      <td>0.091</td>\n",
       "      <td>18.1</td>\n",
       "      <td>K</td>\n",
       "    </tr>\n",
       "    <tr>\n",
       "      <th>2</th>\n",
       "      <td>2023-10-19 14:31:00</td>\n",
       "      <td>0.0</td>\n",
       "      <td>0.0</td>\n",
       "      <td>0.092</td>\n",
       "      <td>18.1</td>\n",
       "      <td>K</td>\n",
       "    </tr>\n",
       "    <tr>\n",
       "      <th>3</th>\n",
       "      <td>2023-10-19 14:31:30</td>\n",
       "      <td>0.0</td>\n",
       "      <td>0.0</td>\n",
       "      <td>0.092</td>\n",
       "      <td>18.1</td>\n",
       "      <td>K</td>\n",
       "    </tr>\n",
       "    <tr>\n",
       "      <th>4</th>\n",
       "      <td>2023-10-19 14:32:00</td>\n",
       "      <td>0.0</td>\n",
       "      <td>0.0</td>\n",
       "      <td>0.092</td>\n",
       "      <td>18.1</td>\n",
       "      <td>K</td>\n",
       "    </tr>\n",
       "  </tbody>\n",
       "</table>\n",
       "</div>"
      ],
      "text/plain": [
       "            Date&Time  app1_conc [mg/l]  app1_conc_lt63 [mg/l]  app1_h [m]  \\\n",
       "0 2023-10-19 14:30:00               0.0                    0.0       0.091   \n",
       "1 2023-10-19 14:30:30               0.0                    0.0       0.091   \n",
       "2 2023-10-19 14:31:00               0.0                    0.0       0.092   \n",
       "3 2023-10-19 14:31:30               0.0                    0.0       0.092   \n",
       "4 2023-10-19 14:32:00               0.0                    0.0       0.092   \n",
       "\n",
       "   app1_t_water [Â°C] Anomalietyp  \n",
       "0                18.1           K  \n",
       "1                18.1           K  \n",
       "2                18.1           K  \n",
       "3                18.1           K  \n",
       "4                18.1           K  "
      ]
     },
     "execution_count": 73,
     "metadata": {},
     "output_type": "execute_result"
    }
   ],
   "source": [
    "# Define the full path to your Excel file\n",
    "file_path = r'R:\\M_883_Entfrachten\\Durchführung\\Daten\\10_Datenauswertung\\Anomalieerkennung\\Event 589\\Q_MW_Kanal_Regenevent589.xlsx'\n",
    "\n",
    "# Read the Excel file into a pandas DataFrame\n",
    "df = pd.read_excel(file_path)\n",
    "df.head()"
   ]
  },
  {
   "cell_type": "code",
   "execution_count": 74,
   "id": "e6cafb27",
   "metadata": {},
   "outputs": [
    {
     "name": "stdout",
     "output_type": "stream",
     "text": [
      "Date&Time                datetime64[ns]\n",
      "app1_conc [mg/l]                float64\n",
      "app1_conc_lt63 [mg/l]           float64\n",
      "app1_h [m]                      float64\n",
      "app1_t_water [Â°C]              float64\n",
      "Anomalietyp                      object\n",
      "dtype: object\n"
     ]
    }
   ],
   "source": [
    "# Convert the 'Date&Time' column to datetime format\n",
    "df['Date&Time'] = pd.to_datetime(df['Date&Time'])\n",
    "# Check the data types of all columns\n",
    "print(df.dtypes)"
   ]
  },
  {
   "cell_type": "code",
   "execution_count": 75,
   "id": "1e87c5fa",
   "metadata": {},
   "outputs": [],
   "source": [
    "# set the key parameter of the dataset\n",
    "df['key parameter'] = df['app1_conc [mg/l]']"
   ]
  },
  {
   "cell_type": "code",
   "execution_count": 76,
   "id": "af0d77a7",
   "metadata": {},
   "outputs": [
    {
     "name": "stdout",
     "output_type": "stream",
     "text": [
      "              Date&Time  app1_conc [mg/l]  app1_conc_lt63 [mg/l]  app1_h [m]  \\\n",
      "0   2023-10-19 14:30:00               0.0                    0.0       0.091   \n",
      "1   2023-10-19 14:30:30               0.0                    0.0       0.091   \n",
      "2   2023-10-19 14:31:00               0.0                    0.0       0.092   \n",
      "3   2023-10-19 14:31:30               0.0                    0.0       0.092   \n",
      "4   2023-10-19 14:32:00               0.0                    0.0       0.092   \n",
      "..                  ...               ...                    ...         ...   \n",
      "731 2023-10-19 20:35:00               0.0                    0.0       0.093   \n",
      "732 2023-10-19 20:35:30               0.0                    0.0       0.093   \n",
      "733 2023-10-19 20:36:00               0.0                    0.0       0.093   \n",
      "734 2023-10-19 20:36:30               0.0                    0.0       0.093   \n",
      "735 2023-10-19 20:37:00               0.0                    0.0       0.093   \n",
      "\n",
      "     app1_t_water [Â°C] Anomalietyp  key parameter Anomalietyp_1 Anomalietyp_2  \n",
      "0                  18.1           K            0.0             K          None  \n",
      "1                  18.1           K            0.0             K          None  \n",
      "2                  18.1           K            0.0             K          None  \n",
      "3                  18.1           K            0.0             K          None  \n",
      "4                  18.1           K            0.0             K          None  \n",
      "..                  ...         ...            ...           ...           ...  \n",
      "731                18.5           K            0.0             K          None  \n",
      "732                18.5           K            0.0             K          None  \n",
      "733                18.5           K            0.0             K          None  \n",
      "734                18.5           K            0.0             K          None  \n",
      "735                18.5           K            0.0             K          None  \n",
      "\n",
      "[736 rows x 9 columns]\n"
     ]
    }
   ],
   "source": [
    "# Splitting the 'Anomalietyp' column into two columns\n",
    "df[['Anomalietyp_1', 'Anomalietyp_2']] = df['Anomalietyp'].str.split(',', expand=True)\n",
    "# Display the DataFrame with the new columns\n",
    "print(df)"
   ]
  },
  {
   "cell_type": "code",
   "execution_count": 79,
   "id": "53e45824",
   "metadata": {
    "scrolled": false
   },
   "outputs": [
    {
     "data": {
      "image/png": "[encoded data removed]",
      "text/plain": [
       "<Figure size 720x432 with 1 Axes>"
      ]
     },
     "metadata": {
      "needs_background": "light"
     },
     "output_type": "display_data"
    }
   ],
   "source": [
    "# Fill in black for missing values\n",
    "default_color = \"black\"\n",
    "\n",
    "# Plot data\n",
    "plt.figure(figsize=(10, 6))\n",
    "# Fill missing values with default color\n",
    "df['Anomalietyp_1'].fillna(value=default_color, inplace=True)\n",
    "# Plot with updated colors and legend labels\n",
    "# Only plots the data for the first Anomalytype\n",
    "for anomaly_type, group in df.groupby('Anomalietyp_1'):\n",
    "    color = anomaly_type_color.get(anomaly_type, default_color)\n",
    "    explanation = anomaly_type_letter_explanation.get(anomaly_type, anomaly_type)\n",
    "    plt.scatter(group['Date&Time'], group['key parameter'], label=explanation, color=color)\n",
    "\n",
    "# Customize plot\n",
    "plt.xlabel('Date&Time')\n",
    "plt.ylabel('TSS Concentration (mg/l)')\n",
    "plt.title('Scatter Plot Anomalies')\n",
    "plt.legend()\n",
    "plt.grid(False)\n",
    "\n",
    "# Show plot\n",
    "plt.show()"
   ]
  }
 ],
 "metadata": {
  "kernelspec": {
   "display_name": "Python 3",
   "language": "python",
   "name": "python3"
  },
  "language_info": {
   "codemirror_mode": {
    "name": "ipython",
    "version": 3
   },
   "file_extension": ".py",
   "mimetype": "text/x-python",
   "name": "python",
   "nbconvert_exporter": "python",
   "pygments_lexer": "ipython3",
   "version": "3.9.11"
  }
 },
 "nbformat": 4,
 "nbformat_minor": 5
}
